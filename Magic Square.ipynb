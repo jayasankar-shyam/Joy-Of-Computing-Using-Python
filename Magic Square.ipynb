{
 "cells": [
  {
   "cell_type": "markdown",
   "id": "5a2b709b",
   "metadata": {},
   "source": [
    "# MAGIC SQUARE\n",
    "#### A magic square of order n is an arrangement of n<sup>2</sup> numbers, usually distinct integers, in a square, such that the n numbers in all rows, all columns, and both diagonals sum to the same constant. A magic square contains the integers from 1 to n<sup>2</sup>.  \n",
    "#### The magic constant of a normal magic square depends only on n and has the following value: M = n(n<sup>2</sup>+1)/2\n",
    "## RULES\n",
    "1. Position of the first number is n/2,n-1\n",
    "1. The position of next number is calculated by decrementing row number of the previous number by 1, and incrementing the column number of the previous number by 1. At any time, if the calculated row position becomes -1, it will wrap around to n-1. Similarly, if the calculated column position becomes n, it will wrap around to 0.\n",
    "1. If the magic square already contains a number at the calculated position, calculated column position will be decremented by 2, and calculated row position will be incremented by 1.\n",
    "1. If the calculated row position is -1 & calculated column position is n, the new position would be: (0, n-2). "
   ]
  },
  {
   "cell_type": "code",
   "execution_count": 56,
   "id": "51b592a0",
   "metadata": {},
   "outputs": [],
   "source": [
    "def magicSquare(n):\n",
    "    magicMatrix=[[0 for i in range(n)]for j in range(n)]\n",
    "    i=n//2\n",
    "    j=n-1\n",
    "    count=1\n",
    "    while(count<=(n*n)):\n",
    "        if(i==-1 and j==n):#condition 4\n",
    "            j=n-2\n",
    "            i=0\n",
    "        else:\n",
    "            if(j==n):#column exeeding\n",
    "                j=0\n",
    "            if(i<0):#row=-1\n",
    "                i=n-1\n",
    "        if(magicMatrix[i][j]!=0):\n",
    "            j=j-2\n",
    "            i=i+1\n",
    "            continue\n",
    "        else:\n",
    "            magicMatrix[i][j]=count\n",
    "            count+=1\n",
    "        i-=1\n",
    "        j+=1\n",
    "    for i in range(n):\n",
    "        for j in range(n):\n",
    "            print(magicMatrix[i][j],end=\" \")\n",
    "        print()\n",
    "    print(f\"The sum of rows/columns/diagonals={int(n*(n**2+1)/2)}\")"
   ]
  },
  {
   "cell_type": "code",
   "execution_count": 59,
   "id": "01907cf8",
   "metadata": {},
   "outputs": [
    {
     "name": "stdout",
     "output_type": "stream",
     "text": [
      "Enter the size of the matrix : 3\n",
      "2 7 6 \n",
      "9 5 1 \n",
      "4 3 8 \n",
      "The sum of rows/columns/diagonals=15\n"
     ]
    }
   ],
   "source": [
    "num=int(input(\"Enter the size of the matrix : \"))\n",
    "magicSquare(num)"
   ]
  }
 ],
 "metadata": {
  "kernelspec": {
   "display_name": "Python 3 (ipykernel)",
   "language": "python",
   "name": "python3"
  },
  "language_info": {
   "codemirror_mode": {
    "name": "ipython",
    "version": 3
   },
   "file_extension": ".py",
   "mimetype": "text/x-python",
   "name": "python",
   "nbconvert_exporter": "python",
   "pygments_lexer": "ipython3",
   "version": "3.9.12"
  }
 },
 "nbformat": 4,
 "nbformat_minor": 5
}
