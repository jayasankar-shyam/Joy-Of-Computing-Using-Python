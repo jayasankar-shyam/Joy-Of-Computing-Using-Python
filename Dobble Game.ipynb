{
 "cells": [
  {
   "cell_type": "code",
   "execution_count": null,
   "id": "a2eaae33",
   "metadata": {},
   "outputs": [],
   "source": [
    "import string as st\n",
    "import random as rd\n",
    "symbols=list(st.ascii_letters)\n",
    "card1=[0]*5\n",
    "card2=[0]*5\n",
    "pos1=rd.randint(0,4)\n",
    "pos2=rd.randint(0,4)\n",
    "print(pos1,pos2)\n",
    "samesymbol=rd.choice(symbols)\n",
    "symbols.remove(samesymbol)\n",
    "if(pos1==pos2):\n",
    "    card2[pos1]=samesymbol\n",
    "    card1[pos1]=samesymbol\n",
    "else:\n",
    "    card1[pos1]=samesymbol\n",
    "    card2[pos2]=samesymbol\n",
    "    card1[pos2]=rd.choice(symbols)\n",
    "    symbols.remove(card1[pos2])\n",
    "    card2[pos1]=rd.choice(symbols)\n",
    "    symbols.remove(card2[pos1])  \n",
    "i=0\n",
    "while(i<5):\n",
    "    if(i!=pos1 and i!=pos2):\n",
    "        alphabet1=rd.choice(symbols)\n",
    "        symbols.remove(alphabet1)\n",
    "        alphabet2=rd.choice(symbols)\n",
    "        symbols.remove(alphabet2)\n",
    "        card1[i]=alphabet1\n",
    "        card2[i]=alphabet2\n",
    "    i+=1\n",
    "print(card1,\"\\n\",card2)\n",
    "ch=input(\"Spot the similar symbol : \")\n",
    "if(ch==samesymbol):\n",
    "    print(\"Congrats.You are correct\")\n",
    "else:\n",
    "    print(\"Sorry.You are wrong\")"
   ]
  },
  {
   "cell_type": "code",
   "execution_count": 5,
   "id": "9b72afc9",
   "metadata": {},
   "outputs": [
    {
     "data": {
      "text/plain": [
       "[0, 0, 0, 0, 0]"
      ]
     },
     "execution_count": 5,
     "metadata": {},
     "output_type": "execute_result"
    }
   ],
   "source": [
    "card1"
   ]
  },
  {
   "cell_type": "code",
   "execution_count": null,
   "id": "2c15ece7",
   "metadata": {},
   "outputs": [],
   "source": []
  }
 ],
 "metadata": {
  "kernelspec": {
   "display_name": "Python 3 (ipykernel)",
   "language": "python",
   "name": "python3"
  },
  "language_info": {
   "codemirror_mode": {
    "name": "ipython",
    "version": 3
   },
   "file_extension": ".py",
   "mimetype": "text/x-python",
   "name": "python",
   "nbconvert_exporter": "python",
   "pygments_lexer": "ipython3",
   "version": "3.9.12"
  }
 },
 "nbformat": 4,
 "nbformat_minor": 5
}
